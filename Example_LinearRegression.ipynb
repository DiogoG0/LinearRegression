{
 "cells": [
  {
   "cell_type": "markdown",
   "id": "6547ac0c",
   "metadata": {},
   "source": [
    "# Linear Regression"
   ]
  },
  {
   "cell_type": "code",
   "execution_count": 31,
   "id": "3eabcf24",
   "metadata": {},
   "outputs": [],
   "source": [
    "import numpy as np\n",
    "\n",
    "class LinearRegression:\n",
    "\n",
    "    def __init__(self, learning_rate=0.001, max_iterations=10000, min_delta_iterations=0.0001):\n",
    "        \"\"\"\n",
    "        Simple Linear Regression model.\n",
    "\n",
    "        Parameters\n",
    "        ----------\n",
    "        learning_rate : float, optional\n",
    "            The learning rate (between 0.0 and 1.0).\n",
    "        max_iterations : int, optional\n",
    "            The number of maximum training iterations.\n",
    "        min_delta_iterations : float, optional\n",
    "            The minimal change between delta iterations (between 0.0 and 1.0).\n",
    "            \n",
    "        \"\"\"\n",
    "        self.learning_rate = learning_rate\n",
    "        self.max_iterations = max_iterations\n",
    "        self.min_delta_iterations = min_delta_iterations\n",
    "        self.coefficient = 0\n",
    "        self.intercept = 0\n",
    "        self.mean_squared_error = None\n",
    "        self.reason = None\n",
    "\n",
    "    def fit(self, X, Y):\n",
    "        \n",
    "        \"\"\"\n",
    "        Fit the model to the training data.\n",
    "\n",
    "        Parameters\n",
    "        ----------\n",
    "        X : array-like, shape (n_samples)\n",
    "            The training data.\n",
    "        Y : array-like, shape (n_samples,)\n",
    "            The target values.\n",
    "        \"\"\"\n",
    "        self.fit_gradient_descent(X, Y)\n",
    "\n",
    "    def fit_gradient_descent(self, X, Y):\n",
    "        \n",
    "        \n",
    "        \"\"\"\"\n",
    "        Fit the model using Gradient Descent.\n",
    "\n",
    "        Parameters\n",
    "        ----------\n",
    "        X : array-like, shape (n_samples)\n",
    "            The training data.\n",
    "        Y : array-like, shape (n_samples,)\n",
    "            The target values.\n",
    "        \"\"\"\n",
    "        Y_mean = np.mean(Y)\n",
    "        sum_squared_total = np.sum((Y - Y_mean) ** 2)\n",
    "        n = float(len(X))\n",
    "\n",
    "        for i in range(self.max_iterations + 1):\n",
    "            Y_pred = self.coefficient * X + self.intercept\n",
    "            dif = Y - Y_pred\n",
    "            gradient_coefficient = (-2 / n) * np.sum(X * dif)\n",
    "            gradient_intercept = (-2 / n) * np.sum(dif)\n",
    "            \n",
    "            old_error = np.sum(((X * self.coefficient + self.intercept) - Y) ** 2)\n",
    "            \n",
    "            self.coefficient -= self.learning_rate * gradient_coefficient\n",
    "            self.intercept -= self.learning_rate * gradient_intercept\n",
    "            \n",
    "            new_error = np.sum(((X * self.coefficient + self.intercept) - Y) ** 2)\n",
    "            self.mean_squared_error = new_error / n\n",
    "            \n",
    "            delta_iterations = ((new_error - old_error) / old_error)\n",
    "            \n",
    "            if abs(delta_iterations) < self.min_delta_iterations:\n",
    "                self.reason = (f'Stopped with a delta_iterations of {round(delta_iterations, 5)} ')\n",
    "                break\n",
    "            elif i == self.max_iterations:\n",
    "                self.reason = (f'Stopped with the max_iterations of {self.max_iterations}')\n",
    "\n",
    "    def R2(self, Y):\n",
    "        \"\"\"\n",
    "        Returns R squared.\n",
    "\n",
    "        Parameters\n",
    "        ----------\n",
    "        Y : array-like, shape (n_samples,)\n",
    "            The target values.\n",
    "        \"\"\"\n",
    "        sum_squared_total = np.sum((Y - np.mean(Y)) ** 2)\n",
    "        r_squared = 1 - (self.mean_squared_error / sum_squared_total)\n",
    "        print(f'{round((r_squared) * 100, 2)}% of the DataSet variability is explained by the constructed model')\n",
    "\n",
    "    def predict(self, X):\n",
    "        \"\"\"\n",
    "        Make predictions for input matrix X.\n",
    "\n",
    "        Parameters\n",
    "        ----------\n",
    "        X : array-like, shape (n_samples)\n",
    "            The input data.\n",
    "\n",
    "        Returns\n",
    "        -------\n",
    "        None\n",
    "        \"\"\"\n",
    "        if not self.coefficient or not self.intercept:\n",
    "            print(\"The model has not been trained yet!\")\n",
    "            return\n",
    "\n",
    "        predictions = X * self.coefficient + self.intercept\n",
    "        rounded_predictions = np.round(predictions, 2)  # Arredondar cada valor para 2 casas decimais\n",
    "          \n",
    "        return predictions\n",
    "        \n",
    "             \n",
    "    def predict_input(self):\n",
    "        \"\"\"\n",
    "        Predict the output of a given X provided by a prompt(input) of X.\n",
    "\n",
    "        The input only accepts numbers, but there is a possibility to exit the loop with a word in the list:\n",
    "        ['quit', 'sair', 'leave', 'exit', 'parar', 'stop','ok', ' ']\n",
    "\n",
    "        Returns\n",
    "        -------\n",
    "        None\n",
    "        \"\"\"\n",
    "        \n",
    "        \n",
    "        while True:\n",
    "            user_input = input('What is the value of X? ')\n",
    "            \n",
    "            if user_input.lower() in ['quit', 'sair', 'leave', 'exit', 'parar', 'stop', 'ok','']:\n",
    "                break\n",
    "            else:\n",
    "                try:\n",
    "                    user_input = float(user_input)\n",
    "                    prediction = self.coefficient * user_input + self.intercept\n",
    "                    \n",
    "                    if prediction is not None:\n",
    "                        print(f'For an X of {user_input}, the expected output is {round(prediction, 2)}')\n",
    "                        break\n",
    "                except ValueError:\n",
    "                    print('A number must be selected, or exit the function, please try again!')\n",
    "                    "
   ]
  },
  {
   "cell_type": "code",
   "execution_count": 32,
   "id": "6570d31b",
   "metadata": {},
   "outputs": [],
   "source": [
    "import numpy as np\n",
    "import matplotlib.pyplot as plt\n",
    "import pandas as pd"
   ]
  },
  {
   "cell_type": "code",
   "execution_count": 33,
   "id": "1aee02e2",
   "metadata": {},
   "outputs": [
    {
     "name": "stdout",
     "output_type": "stream",
     "text": [
      "    YearsExperience    Salary\n",
      "0               1.1   39343.0\n",
      "1               1.3   46205.0\n",
      "2               1.5   37731.0\n",
      "3               2.0   43525.0\n",
      "4               2.2   39891.0\n",
      "5               2.9   56642.0\n",
      "6               3.0   60150.0\n",
      "7               3.2   54445.0\n",
      "8               3.2   64445.0\n",
      "9               3.7   57189.0\n",
      "10              3.9   63218.0\n",
      "11              4.0   55794.0\n",
      "12              4.0   56957.0\n",
      "13              4.1   57081.0\n",
      "14              4.5   61111.0\n",
      "15              4.9   67938.0\n",
      "16              5.1   66029.0\n",
      "17              5.3   83088.0\n",
      "18              5.9   81363.0\n",
      "19              6.0   93940.0\n",
      "20              6.8   91738.0\n",
      "21              7.1   98273.0\n",
      "22              7.9  101302.0\n",
      "23              8.2  113812.0\n",
      "24              8.7  109431.0\n",
      "25              9.0  105582.0\n",
      "26              9.5  116969.0\n",
      "27              9.6  112635.0\n",
      "28             10.3  122391.0\n",
      "29             10.5  121872.0\n"
     ]
    }
   ],
   "source": [
    "Data = pd.read_csv('C:/Users/skorg/Downloads/Salary_Data.csv')\n",
    "print(Data)"
   ]
  },
  {
   "cell_type": "code",
   "execution_count": 34,
   "id": "71e68e37",
   "metadata": {},
   "outputs": [
    {
     "data": {
      "text/html": [
       "<div>\n",
       "<style scoped>\n",
       "    .dataframe tbody tr th:only-of-type {\n",
       "        vertical-align: middle;\n",
       "    }\n",
       "\n",
       "    .dataframe tbody tr th {\n",
       "        vertical-align: top;\n",
       "    }\n",
       "\n",
       "    .dataframe thead th {\n",
       "        text-align: right;\n",
       "    }\n",
       "</style>\n",
       "<table border=\"1\" class=\"dataframe\">\n",
       "  <thead>\n",
       "    <tr style=\"text-align: right;\">\n",
       "      <th></th>\n",
       "      <th>YearsExperience</th>\n",
       "      <th>Salary</th>\n",
       "    </tr>\n",
       "  </thead>\n",
       "  <tbody>\n",
       "    <tr>\n",
       "      <th>count</th>\n",
       "      <td>30.000000</td>\n",
       "      <td>30.000000</td>\n",
       "    </tr>\n",
       "    <tr>\n",
       "      <th>mean</th>\n",
       "      <td>5.313333</td>\n",
       "      <td>76003.000000</td>\n",
       "    </tr>\n",
       "    <tr>\n",
       "      <th>std</th>\n",
       "      <td>2.837888</td>\n",
       "      <td>27414.429785</td>\n",
       "    </tr>\n",
       "    <tr>\n",
       "      <th>min</th>\n",
       "      <td>1.100000</td>\n",
       "      <td>37731.000000</td>\n",
       "    </tr>\n",
       "    <tr>\n",
       "      <th>25%</th>\n",
       "      <td>3.200000</td>\n",
       "      <td>56720.750000</td>\n",
       "    </tr>\n",
       "    <tr>\n",
       "      <th>50%</th>\n",
       "      <td>4.700000</td>\n",
       "      <td>65237.000000</td>\n",
       "    </tr>\n",
       "    <tr>\n",
       "      <th>75%</th>\n",
       "      <td>7.700000</td>\n",
       "      <td>100544.750000</td>\n",
       "    </tr>\n",
       "    <tr>\n",
       "      <th>max</th>\n",
       "      <td>10.500000</td>\n",
       "      <td>122391.000000</td>\n",
       "    </tr>\n",
       "  </tbody>\n",
       "</table>\n",
       "</div>"
      ],
      "text/plain": [
       "       YearsExperience         Salary\n",
       "count        30.000000      30.000000\n",
       "mean          5.313333   76003.000000\n",
       "std           2.837888   27414.429785\n",
       "min           1.100000   37731.000000\n",
       "25%           3.200000   56720.750000\n",
       "50%           4.700000   65237.000000\n",
       "75%           7.700000  100544.750000\n",
       "max          10.500000  122391.000000"
      ]
     },
     "execution_count": 34,
     "metadata": {},
     "output_type": "execute_result"
    }
   ],
   "source": [
    "Data.describe()"
   ]
  },
  {
   "cell_type": "code",
   "execution_count": 35,
   "id": "58cb05e9",
   "metadata": {},
   "outputs": [
    {
     "data": {
      "image/png": "[encoded data removed]",
      "text/plain": [
       "<Figure size 640x480 with 1 Axes>"
      ]
     },
     "metadata": {},
     "output_type": "display_data"
    }
   ],
   "source": [
    "#plot of dataset\n",
    "plt.scatter(Data.iloc[:,0:1].values,Data.iloc[:,1].values)\n",
    "plt.xlabel('Years of experience')\n",
    "plt.ylabel('Salary')\n",
    "plt.title('Data set')\n",
    "plt.show()"
   ]
  },
  {
   "cell_type": "code",
   "execution_count": 36,
   "id": "bc25fa40",
   "metadata": {},
   "outputs": [
    {
     "name": "stdout",
     "output_type": "stream",
     "text": [
      "Training set size : 24\n",
      "Testing set size : 6\n"
     ]
    }
   ],
   "source": [
    "#training and testing size\n",
    "train_size=int(0.8*Data.shape[0])\n",
    "test_size=int(0.2*Data.shape[0])\n",
    "print(\"Training set size : \"+ str(train_size))\n",
    "print(\"Testing set size : \"+str(test_size))"
   ]
  },
  {
   "cell_type": "code",
   "execution_count": 37,
   "id": "4acfa629",
   "metadata": {},
   "outputs": [],
   "source": [
    "Data=Data.sample(frac=1)\n",
    "X=Data.iloc[:,0:1].values\n",
    "Y=Data.iloc[:,1].values"
   ]
  },
  {
   "cell_type": "code",
   "execution_count": 38,
   "id": "7e70d472",
   "metadata": {},
   "outputs": [],
   "source": [
    "X_train=X[0:train_size,:]\n",
    "Y_train=Y[0:train_size]"
   ]
  },
  {
   "cell_type": "code",
   "execution_count": 44,
   "id": "57fe0744",
   "metadata": {},
   "outputs": [
    {
     "name": "stdout",
     "output_type": "stream",
     "text": [
      "(24, 1)\n",
      "(24,)\n"
     ]
    }
   ],
   "source": [
    "print(X_train.shape)\n",
    "print(Y_train.shape)"
   ]
  },
  {
   "cell_type": "code",
   "execution_count": 39,
   "id": "20397e2b",
   "metadata": {},
   "outputs": [],
   "source": [
    "X_test=X[train_size:,:]\n",
    "Y_test=y[train_size:]"
   ]
  },
  {
   "cell_type": "code",
   "execution_count": 45,
   "id": "6f87d0ed",
   "metadata": {},
   "outputs": [
    {
     "name": "stdout",
     "output_type": "stream",
     "text": [
      "(6, 1)\n",
      "(6,)\n"
     ]
    }
   ],
   "source": [
    "print(X_test.shape)\n",
    "print(Y_test.shape)"
   ]
  },
  {
   "cell_type": "code",
   "execution_count": 52,
   "id": "868ea8cc",
   "metadata": {},
   "outputs": [],
   "source": [
    "from sklearn.model_selection import train_test_split\n",
    "from sklearn.metrics import mean_squared_error\n",
    "\n",
    "model = LinearRegression(learning_rate=0.001, max_iterations=10000, min_delta_iterations=0.0001)\n",
    "model.fit(X_train.flatten(), Y_train.flatten())\n",
    "model_predictions = model.predict(X_test.flatten())\n",
    "model_mse = mean_squared_error(Y_test.flatten(), model_predictions)"
   ]
  },
  {
   "cell_type": "code",
   "execution_count": 53,
   "id": "7ec76563",
   "metadata": {},
   "outputs": [
    {
     "data": {
      "image/png": "[encoded data removed]",
      "text/plain": [
       "<Figure size 640x480 with 1 Axes>"
      ]
     },
     "metadata": {},
     "output_type": "display_data"
    }
   ],
   "source": [
    "plt.scatter(X_test,Y_test)\n",
    "plt.plot(X_test,model_predictions,'r')\n",
    "plt.xlabel('X_axis')\n",
    "plt.ylabel('Y_axis')\n",
    "plt.title('Test set prediction using Gradient Descent')\n",
    "plt.show()"
   ]
  },
  {
   "cell_type": "code",
   "execution_count": null,
   "id": "a70bb378",
   "metadata": {},
   "outputs": [],
   "source": []
  }
 ],
 "metadata": {
  "kernelspec": {
   "display_name": "Python 3 (ipykernel)",
   "language": "python",
   "name": "python3"
  },
  "language_info": {
   "codemirror_mode": {
    "name": "ipython",
    "version": 3
   },
   "file_extension": ".py",
   "mimetype": "text/x-python",
   "name": "python",
   "nbconvert_exporter": "python",
   "pygments_lexer": "ipython3",
   "version": "3.11.5"
  }
 },
 "nbformat": 4,
 "nbformat_minor": 5
}
